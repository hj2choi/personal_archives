{
 "cells": [
  {
   "cell_type": "code",
   "execution_count": 3,
   "id": "0b792d91",
   "metadata": {},
   "outputs": [],
   "source": [
    "import pandas as pd\n",
    "from scipy import sparse\n",
    "from sklearn.metrics.pairwise import cosine_similarity"
   ]
  },
  {
   "cell_type": "code",
   "execution_count": 6,
   "id": "a89da850",
   "metadata": {},
   "outputs": [
    {
     "name": "stdout",
     "output_type": "stream",
     "text": [
      "  Unnamed: 0  action1  action2  action3  romantic1  romantic2  romantic3\n",
      "0     user 1      4.0      5.0      3.0        NaN        2.0        1.0\n",
      "1     user 2      5.0      3.0      3.0        2.0        2.0        NaN\n",
      "2     user 3      1.0      NaN      NaN        4.0        5.0        4.0\n",
      "3     user 4      NaN      2.0      1.0        4.0        NaN        3.0\n",
      "4     user 5      1.0      NaN      2.0        3.0        3.0        4.0\n"
     ]
    }
   ],
   "source": [
    "ratings = pd.read_csv(\"toy_dataset.csv\")\n",
    "print(ratings)"
   ]
  },
  {
   "cell_type": "code",
   "execution_count": 8,
   "id": "fc0d9c7e",
   "metadata": {},
   "outputs": [
    {
     "name": "stdout",
     "output_type": "stream",
     "text": [
      "        action1  action2  action3  romantic1  romantic2  romantic3\n",
      "user 1      4.0      5.0      3.0        0.0        2.0        1.0\n",
      "user 2      5.0      3.0      3.0        2.0        2.0        0.0\n",
      "user 3      1.0      0.0      0.0        4.0        5.0        4.0\n",
      "user 4      0.0      2.0      1.0        4.0        0.0        3.0\n",
      "user 5      1.0      0.0      2.0        3.0        3.0        4.0\n"
     ]
    }
   ],
   "source": [
    "ratings = pd.read_csv(\"toy_dataset.csv\", index_col=0)\n",
    "ratings = ratings.fillna(0)\n",
    "print(ratings)"
   ]
  },
  {
   "cell_type": "code",
   "execution_count": 11,
   "id": "9ae92af8",
   "metadata": {},
   "outputs": [
    {
     "name": "stdout",
     "output_type": "stream",
     "text": [
      "        action1  action2   action3  romantic1  romantic2  romantic3\n",
      "user 1     0.36      0.6  0.400000      -0.65      -0.08      -0.35\n",
      "user 2     0.56      0.2  0.400000      -0.15      -0.08      -0.60\n",
      "user 3    -0.24     -0.4 -0.600000       0.35       0.52       0.40\n",
      "user 4    -0.44      0.0 -0.266667       0.35      -0.48       0.15\n",
      "user 5    -0.24     -0.4  0.066667       0.10       0.12       0.40\n",
      "[[ 1.          0.70668875  0.81368151 -0.79941088 -0.02539184 -0.91410609]\n",
      " [ 0.70668875  1.          0.72310153 -0.84515425 -0.5189993  -0.84337386]\n",
      " [ 0.81368151  0.72310153  1.         -0.84794611 -0.3799803  -0.80218063]\n",
      " [-0.79941088 -0.84515425 -0.84794611  1.          0.14803913  0.72374686]\n",
      " [-0.02539184 -0.5189993  -0.3799803   0.14803913  1.          0.39393939]\n",
      " [-0.91410609 -0.84337386 -0.80218063  0.72374686  0.39393939  1.        ]]\n"
     ]
    }
   ],
   "source": [
    "def standardize(row):\n",
    "    new_row = (row - row.mean()) / (row.max() - row.min())\n",
    "    return new_row\n",
    "\n",
    "ratings_std = ratings.apply(standardize)\n",
    "print(ratings_std)\n",
    "\n",
    "item_similarity = cosine_similarity(ratings_std.T)\n",
    "print(item_similarity)"
   ]
  },
  {
   "cell_type": "code",
   "execution_count": 16,
   "id": "c77d9de8",
   "metadata": {},
   "outputs": [
    {
     "name": "stdout",
     "output_type": "stream",
     "text": [
      "            action1   action2   action3  romantic1  romantic2  romantic3\n",
      "action1    1.000000  0.706689  0.813682  -0.799411  -0.025392  -0.914106\n",
      "action2    0.706689  1.000000  0.723102  -0.845154  -0.518999  -0.843374\n",
      "action3    0.813682  0.723102  1.000000  -0.847946  -0.379980  -0.802181\n",
      "romantic1 -0.799411 -0.845154 -0.847946   1.000000   0.148039   0.723747\n",
      "romantic2 -0.025392 -0.518999 -0.379980   0.148039   1.000000   0.393939\n",
      "romantic3 -0.914106 -0.843374 -0.802181   0.723747   0.393939   1.000000\n"
     ]
    }
   ],
   "source": [
    "item_similarity_df = pd.DataFrame(item_similarity, index=ratings.columns,columns=ratings.columns)\n",
    "print(item_similarity_df)"
   ]
  },
  {
   "cell_type": "code",
   "execution_count": 26,
   "id": "5c4c8fe8",
   "metadata": {},
   "outputs": [
    {
     "name": "stdout",
     "output_type": "stream",
     "text": [
      "===likes action movies===\n",
      " action1      2.500000\n",
      "action3      2.034204\n",
      "action2      1.766722\n",
      "romantic2   -0.063480\n",
      "romantic1   -1.998527\n",
      "romantic3   -2.285265\n",
      "Name: action1, dtype: float64\n",
      "\n",
      "===hates romantic movies===\n",
      " action1      1.371159\n",
      "action2      1.265061\n",
      "action3      1.203271\n",
      "romantic2   -0.590909\n",
      "romantic1   -1.085620\n",
      "romantic3   -1.500000\n",
      "Name: romantic3, dtype: float64\n"
     ]
    }
   ],
   "source": [
    "## Let's make recommendataions\n",
    "\n",
    "def get_similar_movies(movie_name, user_rating):\n",
    "    similar_score = item_similarity_df[movie_name] * (user_rating-2.5)\n",
    "    similar_score = similar_score.sort_values(ascending=False)\n",
    "    return similar_score\n",
    "\n",
    "print(\"===likes action movies===\\n\", get_similar_movies(\"action1\",5))\n",
    "print(\"\\n===hates romantic movies===\\n\", get_similar_movies(\"romantic3\",1))"
   ]
  },
  {
   "cell_type": "code",
   "execution_count": 32,
   "id": "36ec3fc8",
   "metadata": {},
   "outputs": [
    {
     "name": "stderr",
     "output_type": "stream",
     "text": [
      "C:\\Users\\GP63\\AppData\\Local\\Temp\\ipykernel_7556\\4156332429.py:6: FutureWarning: The frame.append method is deprecated and will be removed from pandas in a future version. Use pandas.concat instead.\n",
      "  similar_movies = similar_movies.append(get_similar_movies(movie,rating), ignore_index=True)\n",
      "C:\\Users\\GP63\\AppData\\Local\\Temp\\ipykernel_7556\\4156332429.py:6: FutureWarning: The frame.append method is deprecated and will be removed from pandas in a future version. Use pandas.concat instead.\n",
      "  similar_movies = similar_movies.append(get_similar_movies(movie,rating), ignore_index=True)\n",
      "C:\\Users\\GP63\\AppData\\Local\\Temp\\ipykernel_7556\\4156332429.py:6: FutureWarning: The frame.append method is deprecated and will be removed from pandas in a future version. Use pandas.concat instead.\n",
      "  similar_movies = similar_movies.append(get_similar_movies(movie,rating), ignore_index=True)\n"
     ]
    },
    {
     "data": {
      "text/html": [
       "<div>\n",
       "<style scoped>\n",
       "    .dataframe tbody tr th:only-of-type {\n",
       "        vertical-align: middle;\n",
       "    }\n",
       "\n",
       "    .dataframe tbody tr th {\n",
       "        vertical-align: top;\n",
       "    }\n",
       "\n",
       "    .dataframe thead th {\n",
       "        text-align: right;\n",
       "    }\n",
       "</style>\n",
       "<table border=\"1\" class=\"dataframe\">\n",
       "  <thead>\n",
       "    <tr style=\"text-align: right;\">\n",
       "      <th></th>\n",
       "      <th>action1</th>\n",
       "      <th>action3</th>\n",
       "      <th>action2</th>\n",
       "      <th>romantic2</th>\n",
       "      <th>romantic1</th>\n",
       "      <th>romantic3</th>\n",
       "    </tr>\n",
       "  </thead>\n",
       "  <tbody>\n",
       "    <tr>\n",
       "      <th>0</th>\n",
       "      <td>2.500000</td>\n",
       "      <td>2.034204</td>\n",
       "      <td>1.766722</td>\n",
       "      <td>-0.063480</td>\n",
       "      <td>-1.998527</td>\n",
       "      <td>-2.285265</td>\n",
       "    </tr>\n",
       "    <tr>\n",
       "      <th>1</th>\n",
       "      <td>0.038088</td>\n",
       "      <td>0.569970</td>\n",
       "      <td>0.778499</td>\n",
       "      <td>-1.500000</td>\n",
       "      <td>-0.222059</td>\n",
       "      <td>-0.590909</td>\n",
       "    </tr>\n",
       "    <tr>\n",
       "      <th>2</th>\n",
       "      <td>1.371159</td>\n",
       "      <td>1.203271</td>\n",
       "      <td>1.265061</td>\n",
       "      <td>-0.590909</td>\n",
       "      <td>-1.085620</td>\n",
       "      <td>-1.500000</td>\n",
       "    </tr>\n",
       "  </tbody>\n",
       "</table>\n",
       "</div>"
      ],
      "text/plain": [
       "    action1   action3   action2  romantic2  romantic1  romantic3\n",
       "0  2.500000  2.034204  1.766722  -0.063480  -1.998527  -2.285265\n",
       "1  0.038088  0.569970  0.778499  -1.500000  -0.222059  -0.590909\n",
       "2  1.371159  1.203271  1.265061  -0.590909  -1.085620  -1.500000"
      ]
     },
     "execution_count": 32,
     "metadata": {},
     "output_type": "execute_result"
    }
   ],
   "source": [
    "action_lover = [(\"action1\",5), (\"romantic2\",1), (\"romantic3\",1)]\n",
    "\n",
    "similar_movies = pd.DataFrame(action_lover)\n",
    "\n",
    "'''similar_movies = \n",
    "for movie, rating in action_lover:\n",
    "    similar_movies = similar_movies.append(get_similar_movies(movie,rating), ignore_index=True)'''\n",
    "\n",
    "similar_movies.head()"
   ]
  }
 ],
 "metadata": {
  "kernelspec": {
   "display_name": "Python 3 (ipykernel)",
   "language": "python",
   "name": "python3"
  },
  "language_info": {
   "codemirror_mode": {
    "name": "ipython",
    "version": 3
   },
   "file_extension": ".py",
   "mimetype": "text/x-python",
   "name": "python",
   "nbconvert_exporter": "python",
   "pygments_lexer": "ipython3",
   "version": "3.10.2"
  }
 },
 "nbformat": 4,
 "nbformat_minor": 5
}
